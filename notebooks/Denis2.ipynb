{
 "cells": [
  {
   "cell_type": "code",
   "execution_count": 1,
   "id": "7a3d3780-2408-4a9f-b24d-646a53547edb",
   "metadata": {},
   "outputs": [],
   "source": [
    "# Импорт библиотек\n",
    "import pandas as pd\n",
    "import numpy as np\n",
    "import seaborn as sns\n",
    "import matplotlib.pyplot as plt"
   ]
  },
  {
   "cell_type": "code",
   "execution_count": null,
   "id": "c198c5a2-ef61-4565-8d48-cdeb4c417fe1",
   "metadata": {},
   "outputs": [],
   "source": [
    "#Визуализация зависимости цены от площади, разбитой по количеству комнат\n",
    "num_cols = 3\n",
    "g = sns.FacetGrid(df, col='num_rooms', height=5, aspect=1, col_wrap=num_cols)\n",
    "g.map(sns.scatterplot, 'total area', 'main_price')\n",
    "g.set_axis_labels('Площадь м^2', 'Цена (в валюте)')\n",
    "g.set_titles(col_template='Количество комнат: {col_name}')\n",
    "plt.show()"
   ]
  },
  {
   "cell_type": "code",
   "execution_count": null,
   "id": "d065560d",
   "metadata": {},
   "outputs": [
    {
     "ename": "NameError",
     "evalue": "name 'plt' is not defined",
     "output_type": "error",
     "traceback": [
      "\u001b[31m---------------------------------------------------------------------------\u001b[39m",
      "\u001b[31mNameError\u001b[39m                                 Traceback (most recent call last)",
      "\u001b[36mCell\u001b[39m\u001b[36m \u001b[39m\u001b[32mIn[2]\u001b[39m\u001b[32m, line 1\u001b[39m\n\u001b[32m----> \u001b[39m\u001b[32m1\u001b[39m \u001b[43mplt\u001b[49m.figure(figsize=(\u001b[32m10\u001b[39m, \u001b[32m6\u001b[39m))\n\u001b[32m      2\u001b[39m df[\u001b[33m'\u001b[39m\u001b[33mnum_rooms\u001b[39m\u001b[33m'\u001b[39m].value_counts().sort_index().plot(kind=\u001b[33m'\u001b[39m\u001b[33mbar\u001b[39m\u001b[33m'\u001b[39m)\n\u001b[32m      3\u001b[39m plt.title(\u001b[33m'\u001b[39m\u001b[33mРаспределение количества комнат\u001b[39m\u001b[33m'\u001b[39m)\n",
      "\u001b[31mNameError\u001b[39m: name 'plt' is not defined"
     ]
    }
   ],
   "source": [
    "#Столбчатый график, показывающий количество объявлений на каждый тип квартир(по комнатам)\n",
    "plt.figure(figsize=(10, 6))\n",
    "sns.countplot(x='num_rooms', data=df, order=sorted(df['num_rooms'].unique()))\n",
    "plt.title('Распределение количества комнат')\n",
    "plt.xlabel('Количество комнат')\n",
    "plt.ylabel('Количество объявлений')\n",
    "plt.xticks(rotation=0)\n",
    "plt.show()"
   ]
  },
  {
   "cell_type": "code",
   "execution_count": null,
   "id": "6818ba0c",
   "metadata": {},
   "outputs": [],
   "source": [
    "#Рассеянный график отношения цены/площадь\n",
    "plt.figure(figsize=(10, 6))\n",
    "sns.scatterplot(x='total area', y='main_price', data=df, alpha=0.5)\n",
    "plt.title('Связь между площадью и ценой')\n",
    "plt.xlabel('Площадь (м²)')\n",
    "plt.ylabel('Цена, млн.руб')\n",
    "plt.grid(True)\n",
    "plt.show()"
   ]
  },
  {
   "cell_type": "code",
   "execution_count": null,
   "id": "37931495",
   "metadata": {},
   "outputs": [],
   "source": [
    "#Столбчатый график, показывающий количество объявлений в зависимости от цены\n",
    "plt.figure(figsize=(10, 6))\n",
    "sns.histplot(df['main_price'], bins=30, kde=True, color='skyblue')\n",
    "plt.title('Распределение цен')\n",
    "plt.xlabel('Цена')\n",
    "plt.ylabel('Количество объявлений')\n",
    "plt.grid(axis='y')\n",
    "plt.show()"
   ]
  }
 ],
 "metadata": {
  "kernelspec": {
   "display_name": "base",
   "language": "python",
   "name": "python3"
  },
  "language_info": {
   "codemirror_mode": {
    "name": "ipython",
    "version": 3
   },
   "file_extension": ".py",
   "mimetype": "text/x-python",
   "name": "python",
   "nbconvert_exporter": "python",
   "pygments_lexer": "ipython3",
   "version": "3.12.10"
  }
 },
 "nbformat": 4,
 "nbformat_minor": 5
}
