{
 "cells": [
  {
   "cell_type": "code",
   "execution_count": 62,
   "id": "7a3d3780-2408-4a9f-b24d-646a53547edb",
   "metadata": {},
   "outputs": [],
   "source": [
    "# Импорт библиотек\n",
    "import pandas as pd\n",
    "import numpy as np\n",
    "import seaborn as sns\n",
    "import matplotlib.pyplot as plt\n",
    "\n",
    "pd.set_option('display.max_columns', None)"
   ]
  },
  {
   "cell_type": "code",
   "execution_count": 72,
   "id": "4f81a661",
   "metadata": {},
   "outputs": [],
   "source": [
    "import warnings\n",
    "warnings.simplefilter(action='ignore', category=FutureWarning)"
   ]
  },
  {
   "cell_type": "code",
   "execution_count": 63,
   "id": "8e78edc5-c6b9-4cc7-b0e3-8e3f037f6788",
   "metadata": {},
   "outputs": [],
   "source": [
    "# Чтение датасета\n",
    "df = pd.read_csv('../data/_data.csv')"
   ]
  },
  {
   "cell_type": "code",
   "execution_count": 64,
   "id": "c86ac0cb-91e1-472c-ac96-07660fc3674b",
   "metadata": {},
   "outputs": [],
   "source": [
    "# удаляем столбец `Unnamed: 0`\n",
    "df = df.iloc[:, 1:]\n",
    "\n",
    "# переименовываем столбцы\n",
    "NEW_COLUMNS = {\n",
    "    'ID  объявления':           'id',\n",
    "    'Количество комнат':        'rooms',\n",
    "    'Тип':                      'type',\n",
    "    'Метро':                    'metro_station',\n",
    "    'Адрес':                    'address',\n",
    "    'Площадь, м2':              'area',\n",
    "    'Дом':                      'building_type',\n",
    "    'Парковка':                 'parking',\n",
    "    'Цена':                     'price',\n",
    "    'Телефоны':                 'phones',\n",
    "    'Описание':                 'description',\n",
    "    'Ремонт':                   'renovation',\n",
    "    'Площадь комнат, м2':       'rooms_area',\n",
    "    'Балкон':                   'balcony',\n",
    "    'Окна':                     'windows',\n",
    "    'Санузел':                  'bathroom',\n",
    "    'Можно с детьми/животными': 'kids_pets',\n",
    "    'Дополнительно':            'extra',\n",
    "    'Название ЖК':              'complex_title',\n",
    "    'Серия дома':               'building_series',\n",
    "    'Высота потолков, м':       'ceiling_height',\n",
    "    'Лифт':                     'elevator',\n",
    "    'Мусоропровод':             'trash_chute',\n",
    "    'Ссылка на объявление':     'listing_url',\n",
    "}\n",
    "df = df.rename(columns=NEW_COLUMNS)"
   ]
  },
  {
   "cell_type": "code",
   "execution_count": 65,
   "id": "c198c5a2-ef61-4565-8d48-cdeb4c417fe1",
   "metadata": {},
   "outputs": [
    {
     "data": {
      "text/html": [
       "<div>\n",
       "<style scoped>\n",
       "    .dataframe tbody tr th:only-of-type {\n",
       "        vertical-align: middle;\n",
       "    }\n",
       "\n",
       "    .dataframe tbody tr th {\n",
       "        vertical-align: top;\n",
       "    }\n",
       "\n",
       "    .dataframe thead th {\n",
       "        text-align: right;\n",
       "    }\n",
       "</style>\n",
       "<table border=\"1\" class=\"dataframe\">\n",
       "  <thead>\n",
       "    <tr style=\"text-align: right;\">\n",
       "      <th></th>\n",
       "      <th>id</th>\n",
       "      <th>rooms</th>\n",
       "      <th>type</th>\n",
       "      <th>metro_station</th>\n",
       "      <th>address</th>\n",
       "      <th>area</th>\n",
       "      <th>building_type</th>\n",
       "      <th>parking</th>\n",
       "      <th>price</th>\n",
       "      <th>phones</th>\n",
       "      <th>description</th>\n",
       "      <th>renovation</th>\n",
       "      <th>rooms_area</th>\n",
       "      <th>balcony</th>\n",
       "      <th>windows</th>\n",
       "      <th>bathroom</th>\n",
       "      <th>kids_pets</th>\n",
       "      <th>extra</th>\n",
       "      <th>complex_title</th>\n",
       "      <th>building_series</th>\n",
       "      <th>ceiling_height</th>\n",
       "      <th>elevator</th>\n",
       "      <th>trash_chute</th>\n",
       "      <th>listing_url</th>\n",
       "      <th>main_price</th>\n",
       "      <th>deposit</th>\n",
       "      <th>utilities_included</th>\n",
       "      <th>rental_term</th>\n",
       "      <th>prepayment_months</th>\n",
       "    </tr>\n",
       "  </thead>\n",
       "  <tbody>\n",
       "    <tr>\n",
       "      <th>0</th>\n",
       "      <td>271271157</td>\n",
       "      <td>4</td>\n",
       "      <td>Квартира</td>\n",
       "      <td>м. Смоленская (9 мин пешком)</td>\n",
       "      <td>Москва, улица Новый Арбат, 27</td>\n",
       "      <td>200.0/20.0</td>\n",
       "      <td>5/16, Монолитный</td>\n",
       "      <td>подземная</td>\n",
       "      <td>500000.0 руб./ За месяц, Залог - 500000 руб., ...</td>\n",
       "      <td>+79166369231</td>\n",
       "      <td>Без комиссии для нанимателя! Бонус коллегам 12...</td>\n",
       "      <td>Дизайнерский</td>\n",
       "      <td>NaN</td>\n",
       "      <td>NaN</td>\n",
       "      <td>NaN</td>\n",
       "      <td>NaN</td>\n",
       "      <td>Можно с детьми, Можно с животными</td>\n",
       "      <td>Мебель в комнатах, Мебель на кухне, Ванна, Душ...</td>\n",
       "      <td>Новый Арбат, 2010</td>\n",
       "      <td>NaN</td>\n",
       "      <td>3.0</td>\n",
       "      <td>Пасс (4), Груз (1)</td>\n",
       "      <td>Да</td>\n",
       "      <td>https://www.cian.ru/rent/flat/271271157</td>\n",
       "      <td>500000.0</td>\n",
       "      <td>500000.0</td>\n",
       "      <td>True</td>\n",
       "      <td>Длительный</td>\n",
       "      <td>1.0</td>\n",
       "    </tr>\n",
       "    <tr>\n",
       "      <th>1</th>\n",
       "      <td>271634126</td>\n",
       "      <td>4</td>\n",
       "      <td>Квартира</td>\n",
       "      <td>м. Смоленская (8 мин пешком)</td>\n",
       "      <td>Москва, улица Новый Арбат, 27</td>\n",
       "      <td>198.0/95.0/18.0</td>\n",
       "      <td>5/16, Монолитно-кирпичный</td>\n",
       "      <td>подземная</td>\n",
       "      <td>500000.0 руб./ За месяц, Залог - 500000 руб., ...</td>\n",
       "      <td>+79850608590</td>\n",
       "      <td>Лот 93107. Елена Анисимова.\\n\\nБонус агенту 50...</td>\n",
       "      <td>Дизайнерский</td>\n",
       "      <td>25 25 20 25</td>\n",
       "      <td>NaN</td>\n",
       "      <td>На улицу и двор</td>\n",
       "      <td>Совмещенный (2), Раздельный (1)</td>\n",
       "      <td>Можно с детьми</td>\n",
       "      <td>Мебель в комнатах, Мебель на кухне, Ванна, Душ...</td>\n",
       "      <td>Новый Арбат</td>\n",
       "      <td>NaN</td>\n",
       "      <td>3.5</td>\n",
       "      <td>Пасс (1), Груз (1)</td>\n",
       "      <td>Нет</td>\n",
       "      <td>https://www.cian.ru/rent/flat/271634126</td>\n",
       "      <td>500000.0</td>\n",
       "      <td>500000.0</td>\n",
       "      <td>True</td>\n",
       "      <td>Длительный</td>\n",
       "      <td>1.0</td>\n",
       "    </tr>\n",
       "  </tbody>\n",
       "</table>\n",
       "</div>"
      ],
      "text/plain": [
       "          id rooms      type                 metro_station  \\\n",
       "0  271271157     4  Квартира  м. Смоленская (9 мин пешком)   \n",
       "1  271634126     4  Квартира  м. Смоленская (8 мин пешком)   \n",
       "\n",
       "                         address             area              building_type  \\\n",
       "0  Москва, улица Новый Арбат, 27       200.0/20.0           5/16, Монолитный   \n",
       "1  Москва, улица Новый Арбат, 27  198.0/95.0/18.0  5/16, Монолитно-кирпичный   \n",
       "\n",
       "     parking                                              price        phones  \\\n",
       "0  подземная  500000.0 руб./ За месяц, Залог - 500000 руб., ...  +79166369231   \n",
       "1  подземная  500000.0 руб./ За месяц, Залог - 500000 руб., ...  +79850608590   \n",
       "\n",
       "                                         description    renovation  \\\n",
       "0  Без комиссии для нанимателя! Бонус коллегам 12...  Дизайнерский   \n",
       "1  Лот 93107. Елена Анисимова.\\n\\nБонус агенту 50...  Дизайнерский   \n",
       "\n",
       "    rooms_area balcony          windows                         bathroom  \\\n",
       "0          NaN     NaN              NaN                              NaN   \n",
       "1  25 25 20 25     NaN  На улицу и двор  Совмещенный (2), Раздельный (1)   \n",
       "\n",
       "                           kids_pets  \\\n",
       "0  Можно с детьми, Можно с животными   \n",
       "1                     Можно с детьми   \n",
       "\n",
       "                                               extra      complex_title  \\\n",
       "0  Мебель в комнатах, Мебель на кухне, Ванна, Душ...  Новый Арбат, 2010   \n",
       "1  Мебель в комнатах, Мебель на кухне, Ванна, Душ...        Новый Арбат   \n",
       "\n",
       "  building_series  ceiling_height            elevator trash_chute  \\\n",
       "0             NaN             3.0  Пасс (4), Груз (1)          Да   \n",
       "1             NaN             3.5  Пасс (1), Груз (1)         Нет   \n",
       "\n",
       "                               listing_url  main_price   deposit  \\\n",
       "0  https://www.cian.ru/rent/flat/271271157    500000.0  500000.0   \n",
       "1  https://www.cian.ru/rent/flat/271634126    500000.0  500000.0   \n",
       "\n",
       "   utilities_included rental_term  prepayment_months  \n",
       "0                True  Длительный                1.0  \n",
       "1                True  Длительный                1.0  "
      ]
     },
     "execution_count": 65,
     "metadata": {},
     "output_type": "execute_result"
    }
   ],
   "source": [
    "# 1. Создаем столбец с главной ценой\n",
    "# r'([\\d\\.]+)' Это регулярное выражение, которое используется для поиска чисел с точкой. \n",
    "# \\d — означает любую цифру от 0 до 9. \n",
    "# [\\d\\.]+ — это: «одна или больше цифр и/или точек подряд». \n",
    "df['main_price'] = df['price'].str.extract(r'([\\d\\.]+)').astype(float)\n",
    "\n",
    "# 2. Поработаем с залогом\n",
    "# Ищем слово Залог, дефис, и число после него\n",
    "# *-\\s* это мы так страхуемся, чтобы захватились пробелы до и после дефиса\"\"\"\n",
    "df['deposit'] = df['price'].str.extract(r'Залог\\s*-\\s*([\\d\\s]+)')[0]\n",
    "df['deposit'] = df['deposit'].str.replace(' ', '').astype(float)\n",
    "\n",
    "# 3. Коммунальные услуги - выводим пока что только булевы значения True/False\n",
    "df['utilities_included'] = df['price'].str.contains('Коммунальные услуги включены', case=False, na=False)\n",
    "\n",
    "# 4. Срок аренды\n",
    "# Ищем слово Срок аренды, дефис, и слова после него\n",
    "df['rental_term'] = df['price'].str.extract(r'Срок аренды\\s*-\\s*([а-яА-Яa-zA-Z ]+)')\n",
    "\n",
    "# 5. Предоплата\n",
    "# Ищем слово Предоплата, дефис, и слова после него\n",
    "df['prepayment_months'] = df['price'].str.extract(r'Предоплата\\s*(\\d+)')\n",
    "df['prepayment_months'] = df['prepayment_months'].astype(float)\n",
    "\n",
    "df.head(2)"
   ]
  },
  {
   "cell_type": "markdown",
   "id": "f0a22fd0",
   "metadata": {},
   "source": [
    "# DMITRY"
   ]
  },
  {
   "cell_type": "markdown",
   "id": "f42cff26",
   "metadata": {},
   "source": [
    "### Create aditional columns from \"rooms\""
   ]
  },
  {
   "cell_type": "code",
   "execution_count": 201,
   "id": "d065560d",
   "metadata": {},
   "outputs": [
    {
     "data": {
      "text/plain": [
       "<IntegerArray>\n",
       "[4, 2, 3, 5, 6, 1, <NA>]\n",
       "Length: 7, dtype: Int64"
      ]
     },
     "execution_count": 201,
     "metadata": {},
     "output_type": "execute_result"
    }
   ],
   "source": [
    "df['num_rooms'] = df['rooms'].str.extract(r'(\\d+)').astype('Int64')\n",
    "df['num_rooms'].unique()"
   ]
  },
  {
   "cell_type": "code",
   "execution_count": 67,
   "id": "6818ba0c",
   "metadata": {},
   "outputs": [
    {
     "data": {
      "text/plain": [
       "array([nan, ' Оба варианта', ' Изолированная', ' Смежная'], dtype=object)"
      ]
     },
     "execution_count": 67,
     "metadata": {},
     "output_type": "execute_result"
    }
   ],
   "source": [
    "df['type_rooms'] = df['rooms'].str.extract(r'(\\s\\D+)')\n",
    "df['type_rooms'].unique()"
   ]
  },
  {
   "cell_type": "markdown",
   "id": "b8d52813",
   "metadata": {},
   "source": [
    "### Create aditional columns from \"building_type\""
   ]
  },
  {
   "cell_type": "code",
   "execution_count": null,
   "id": "7207f0a4",
   "metadata": {},
   "outputs": [
    {
     "data": {
      "text/plain": [
       "array([ 5, 12,  3,  4,  2,  6, 19,  8, 10, 21,  7,  9, 26, 25, 11, 24, 23,\n",
       "        1, 13, 14, 16, 15, 17, 22, 18, 20, 27, 30, 28, 33, 35, 39, 31, 36,\n",
       "       34, 29, 46, 38, 54, 61, 52, 40, 47, 43, 58, 55, 50, 57, 37, 41, 53,\n",
       "       32, 75, 45, 48, 85, 71, 70, 49, 59, 65, 42])"
      ]
     },
     "execution_count": 68,
     "metadata": {},
     "output_type": "execute_result"
    }
   ],
   "source": [
    "df['floor'] = df['building_type'].str.extract(r'(\\d{1,3})/').astype('Int64')\n",
    "df['floor'].unique()"
   ]
  },
  {
   "cell_type": "markdown",
   "id": "5ff6db6b",
   "metadata": {},
   "source": []
  },
  {
   "cell_type": "code",
   "execution_count": null,
   "id": "3d29a383",
   "metadata": {},
   "outputs": [
    {
     "data": {
      "text/plain": [
       "array([ 16,   6,  26,   7,   5,   4,  10,   8,   9,   3,  13,  17,  12,\n",
       "        14,  11,  24,  15,  22,  19,  18,   2,  23,  20,  21,  25,  39,\n",
       "        45,  33,  28,  27,  30,  29,  38,  37,   1,  58,  35,  31,  34,\n",
       "        32,  53,  54,  50,  46,  52,  44,  43,  36,  55,  47,  40,  65,\n",
       "        77,  78,  80,  75,  68,  85,  86,  41,  48,  49,  60,  59,  72,\n",
       "        42,  73,  95,  51,  76,  62,  57, 116])"
      ]
     },
     "execution_count": 69,
     "metadata": {},
     "output_type": "execute_result"
    }
   ],
   "source": [
    "df['total_floors'] = df['building_type'].str.extract(r'/(\\d{1,3})').astype('Int64')\n",
    "df['total_floors'].unique()"
   ]
  },
  {
   "cell_type": "markdown",
   "id": "6f47b78e",
   "metadata": {},
   "source": [
    "### Create aditional columns from \"parking\""
   ]
  },
  {
   "cell_type": "code",
   "execution_count": 80,
   "id": "bb87ed17",
   "metadata": {},
   "outputs": [
    {
     "data": {
      "text/plain": [
       "array([0, 1, 2, 3, 4, 5])"
      ]
     },
     "execution_count": 80,
     "metadata": {},
     "output_type": "execute_result"
    }
   ],
   "source": [
    "df['parking'].fillna('нет', inplace=True)\n",
    "df['parking_categories'] = pd.factorize(df['parking'])[0]\n",
    "df['parking_categories'].unique()"
   ]
  },
  {
   "cell_type": "markdown",
   "id": "ba0a9350",
   "metadata": {},
   "source": [
    "### Create aditional columns from \"kids_pets\""
   ]
  },
  {
   "cell_type": "code",
   "execution_count": 86,
   "id": "26cb2654",
   "metadata": {},
   "outputs": [
    {
     "data": {
      "text/plain": [
       "array([1, 0])"
      ]
     },
     "execution_count": 86,
     "metadata": {},
     "output_type": "execute_result"
    }
   ],
   "source": [
    "df['kids_allowed'] = np.where(df['kids_pets'].str.contains('детьми'), 1, 0)\n",
    "df['kids_allowed'].unique()"
   ]
  },
  {
   "cell_type": "code",
   "execution_count": 89,
   "id": "0e8a95ea",
   "metadata": {},
   "outputs": [
    {
     "data": {
      "text/plain": [
       "array([1, 0])"
      ]
     },
     "execution_count": 89,
     "metadata": {},
     "output_type": "execute_result"
    }
   ],
   "source": [
    "df['pets_allowed'] = np.where(df['kids_pets'].str.contains('животными'), 1, 0)\n",
    "df['pets_allowed'].unique()"
   ]
  },
  {
   "cell_type": "markdown",
   "id": "e9469f61",
   "metadata": {},
   "source": [
    "### Create aditional columns from \"elevator\""
   ]
  },
  {
   "cell_type": "code",
   "execution_count": 199,
   "id": "eb1401d1",
   "metadata": {},
   "outputs": [
    {
     "data": {
      "text/plain": [
       "<IntegerArray>\n",
       "[5, 2, 1, <NA>, 3, 4, 6, 8, 7, 60, 16, 50]\n",
       "Length: 12, dtype: Int64"
      ]
     },
     "execution_count": 199,
     "metadata": {},
     "output_type": "execute_result"
    }
   ],
   "source": [
    "df['elevator_num'] = df['elevator'].str.extract(r'(\\d{1,2})\\).*(\\d{1,2})\\).*|(\\d{1,2})\\)').astype('Int64').sum(axis=1, min_count=1)\n",
    "df['elevator_num'].unique()"
   ]
  },
  {
   "cell_type": "code",
   "execution_count": null,
   "id": "d782765d",
   "metadata": {},
   "outputs": [],
   "source": []
  }
 ],
 "metadata": {
  "kernelspec": {
   "display_name": "base",
   "language": "python",
   "name": "python3"
  },
  "language_info": {
   "codemirror_mode": {
    "name": "ipython",
    "version": 3
   },
   "file_extension": ".py",
   "mimetype": "text/x-python",
   "name": "python",
   "nbconvert_exporter": "python",
   "pygments_lexer": "ipython3",
   "version": "3.12.10"
  }
 },
 "nbformat": 4,
 "nbformat_minor": 5
}
