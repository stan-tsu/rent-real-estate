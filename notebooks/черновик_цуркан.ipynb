{
 "cells": [
  {
   "cell_type": "code",
   "execution_count": 1,
   "id": "7a3d3780-2408-4a9f-b24d-646a53547edb",
   "metadata": {},
   "outputs": [],
   "source": [
    "# Импорт библиотек\n",
    "import pandas as pd\n",
    "import numpy as np\n",
    "import seaborn as sns\n",
    "import matplotlib.pyplot as plt"
   ]
  },
  {
   "cell_type": "code",
   "execution_count": 3,
   "id": "8e78edc5-c6b9-4cc7-b0e3-8e3f037f6788",
   "metadata": {},
   "outputs": [],
   "source": [
    "# Чтение датасета\n",
    "df = pd.read_csv('/Users/stanislawtsurkan/ds_bootcamp/rent-real-estate/data/_data.csv')"
   ]
  },
  {
   "cell_type": "code",
   "execution_count": 5,
   "id": "c86ac0cb-91e1-472c-ac96-07660fc3674b",
   "metadata": {},
   "outputs": [],
   "source": [
    "# удаляем столбец `Unnamed: 0`\n",
    "df = df.iloc[:, 1:]\n",
    "\n",
    "# переименовываем столбцы\n",
    "NEW_COLUMNS = {\n",
    "    'ID  объявления':           'id',\n",
    "    'Количество комнат':        'rooms',\n",
    "    'Тип':                      'type',\n",
    "    'Метро':                    'metro_station',\n",
    "    'Адрес':                    'address',\n",
    "    'Площадь, м2':              'area',\n",
    "    'Дом':                      'building_type',\n",
    "    'Парковка':                 'parking',\n",
    "    'Цена':                     'price',\n",
    "    'Телефоны':                 'phones',\n",
    "    'Описание':                 'description',\n",
    "    'Ремонт':                   'renovation',\n",
    "    'Площадь комнат, м2':       'rooms_area',\n",
    "    'Балкон':                   'balcony',\n",
    "    'Окна':                     'windows',\n",
    "    'Санузел':                  'bathroom',\n",
    "    'Можно с детьми/животными': 'kids_pets',\n",
    "    'Дополнительно':            'extra',\n",
    "    'Название ЖК':              'complex_title',\n",
    "    'Серия дома':               'building_series',\n",
    "    'Высота потолков, м':       'ceiling_height',\n",
    "    'Лифт':                     'elevator',\n",
    "    'Мусоропровод':             'trash_chute',\n",
    "    'Ссылка на объявление':     'listing_url',\n",
    "}\n",
    "df = df.rename(columns=NEW_COLUMNS)"
   ]
  },
  {
   "cell_type": "code",
   "execution_count": 6,
   "id": "c198c5a2-ef61-4565-8d48-cdeb4c417fe1",
   "metadata": {},
   "outputs": [],
   "source": [
    "# добавляем столбец с общей площадью квартир\n",
    "df['total area'] = df['area'].str.split('/').str[0].astype('float')"
   ]
  },
  {
   "cell_type": "code",
   "execution_count": null,
   "id": "dc700d26",
   "metadata": {},
   "outputs": [],
   "source": [
    "# добавляем столбец с наличием/отсутствием мебели\n",
    "df[\"furniture\"] = np.where(df[\"extra\"].isna(), np.nan, df[\"extra\"].str.contains(\"Мебель в комнатах\", na=False).astype(int))\n",
    "# добавляем столбец с наличием/отсутствием холодильника\n",
    "df[\"fridge\"] = np.where(df[\"extra\"].isna(), np.nan, df[\"extra\"].str.contains(\"Холодильник\", na=False).astype(int))\n",
    "# добавляем столбец с наличием/отсутствием стиральной машины\n",
    "df[\"washing_machine\"] = np.where(df[\"extra\"].isna(), np.nan, df[\"extra\"].str.contains(\"Стиральная машина\", na=False).astype(int))"
   ]
  }
 ],
 "metadata": {
  "kernelspec": {
   "display_name": "Python 3 (ipykernel)",
   "language": "python",
   "name": "python3"
  }
 },
 "nbformat": 4,
 "nbformat_minor": 5
}
