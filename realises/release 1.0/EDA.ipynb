{
 "cells": [
  {
   "cell_type": "code",
   "execution_count": 18,
   "id": "7a3d3780-2408-4a9f-b24d-646a53547edb",
   "metadata": {},
   "outputs": [],
   "source": [
    "# Импорт библиотек\n",
    "import pandas as pd\n",
    "import numpy as np\n",
    "import seaborn as sns\n",
    "import matplotlib.pyplot as plt"
   ]
  },
  {
   "cell_type": "code",
   "execution_count": 19,
   "id": "8e78edc5-c6b9-4cc7-b0e3-8e3f037f6788",
   "metadata": {},
   "outputs": [],
   "source": [
    "# Чтение датасета\n",
    "df = pd.read_csv('../../data/_data.csv')"
   ]
  },
  {
   "cell_type": "code",
   "execution_count": 20,
   "id": "c86ac0cb-91e1-472c-ac96-07660fc3674b",
   "metadata": {},
   "outputs": [],
   "source": [
    "# удаляем столбец `Unnamed: 0`\n",
    "df = df.iloc[:, 1:]\n",
    "\n",
    "# переименовываем столбцы\n",
    "NEW_COLUMNS = {\n",
    "    'ID  объявления':           'id',\n",
    "    'Количество комнат':        'rooms',\n",
    "    'Тип':                      'type',\n",
    "    'Метро':                    'metro_station',\n",
    "    'Адрес':                    'address',\n",
    "    'Площадь, м2':              'area',\n",
    "    'Дом':                      'building_type',\n",
    "    'Парковка':                 'parking',\n",
    "    'Цена':                     'price',\n",
    "    'Телефоны':                 'phones',\n",
    "    'Описание':                 'description',\n",
    "    'Ремонт':                   'renovation',\n",
    "    'Площадь комнат, м2':       'rooms_area',\n",
    "    'Балкон':                   'balcony',\n",
    "    'Окна':                     'windows',\n",
    "    'Санузел':                  'bathroom',\n",
    "    'Можно с детьми/животными': 'kids_pets',\n",
    "    'Дополнительно':            'extra',\n",
    "    'Название ЖК':              'complex_title',\n",
    "    'Серия дома':               'building_series',\n",
    "    'Высота потолков, м':       'ceiling_height',\n",
    "    'Лифт':                     'elevator',\n",
    "    'Мусоропровод':             'trash_chute',\n",
    "    'Ссылка на объявление':     'listing_url',\n",
    "}\n",
    "df = df.rename(columns=NEW_COLUMNS)"
   ]
  },
  {
   "cell_type": "code",
   "execution_count": null,
   "id": "c198c5a2-ef61-4565-8d48-cdeb4c417fe1",
   "metadata": {},
   "outputs": [],
   "source": []
  }
 ],
 "metadata": {
  "kernelspec": {
   "display_name": "Python 3 (ipykernel)",
   "language": "python",
   "name": "python3"
  },
  "language_info": {
   "codemirror_mode": {
    "name": "ipython",
    "version": 3
   },
   "file_extension": ".py",
   "mimetype": "text/x-python",
   "name": "python",
   "nbconvert_exporter": "python",
   "pygments_lexer": "ipython3",
   "version": "3.12.10"
  }
 },
 "nbformat": 4,
 "nbformat_minor": 5
}
