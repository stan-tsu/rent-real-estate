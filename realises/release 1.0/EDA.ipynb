{
 "cells": [
  {
   "cell_type": "code",
   "execution_count": 26,
   "id": "7a3d3780-2408-4a9f-b24d-646a53547edb",
   "metadata": {},
   "outputs": [],
   "source": [
    "# Импорт библиотек\n",
    "import pandas as pd\n",
    "import numpy as np\n",
    "import seaborn as sns\n",
    "import matplotlib.pyplot as plt\n",
    "import re\n",
    "import warnings\n",
    "warnings.simplefilter(action='ignore', category=FutureWarning)\n",
    "\n",
    "# Настройки Pandas\n",
    "pd.set_option('display.max_columns', None)"
   ]
  },
  {
   "cell_type": "code",
   "execution_count": 2,
   "id": "8e78edc5-c6b9-4cc7-b0e3-8e3f037f6788",
   "metadata": {},
   "outputs": [],
   "source": [
    "# Чтение датасета\n",
    "df = pd.read_csv('../../data/_data.csv')"
   ]
  },
  {
   "cell_type": "code",
   "execution_count": 3,
   "id": "c86ac0cb-91e1-472c-ac96-07660fc3674b",
   "metadata": {},
   "outputs": [],
   "source": [
    "# Удаляем столбец `Unnamed: 0`\n",
    "df = df.iloc[:, 1:]\n",
    "\n",
    "# Переименовываем столбцы\n",
    "NEW_COLUMNS = {\n",
    "    'ID  объявления':           'id',\n",
    "    'Количество комнат':        'rooms',\n",
    "    'Тип':                      'type',\n",
    "    'Метро':                    'metro_station',\n",
    "    'Адрес':                    'address',\n",
    "    'Площадь, м2':              'area',\n",
    "    'Дом':                      'building_type',\n",
    "    'Парковка':                 'parking',\n",
    "    'Цена':                     'price',\n",
    "    'Телефоны':                 'phones',\n",
    "    'Описание':                 'description',\n",
    "    'Ремонт':                   'renovation',\n",
    "    'Площадь комнат, м2':       'rooms_area',\n",
    "    'Балкон':                   'balcony',\n",
    "    'Окна':                     'windows',\n",
    "    'Санузел':                  'bathroom',\n",
    "    'Можно с детьми/животными': 'kids_pets',\n",
    "    'Дополнительно':            'extra',\n",
    "    'Название ЖК':              'complex_title',\n",
    "    'Серия дома':               'building_series',\n",
    "    'Высота потолков, м':       'ceiling_height',\n",
    "    'Лифт':                     'elevator',\n",
    "    'Мусоропровод':             'trash_chute',\n",
    "    'Ссылка на объявление':     'listing_url',\n",
    "}\n",
    "df = df.rename(columns=NEW_COLUMNS)"
   ]
  },
  {
   "cell_type": "markdown",
   "id": "e1f02e71",
   "metadata": {},
   "source": [
    "### Колонка `rooms`"
   ]
  },
  {
   "cell_type": "code",
   "execution_count": 4,
   "id": "a69807e1",
   "metadata": {},
   "outputs": [],
   "source": [
    "# Создаем столбец `num_rooms` с кол-ом комнат\n",
    "df['num_rooms'] = df['rooms'].str.extract(r'(\\d+)').astype('Int64')\n",
    "# Создаем столбец `type_rooms` с типом комнат 'изолированная', ' смежная'\n",
    "df['type_rooms'] = df['rooms'].str.extract(r'(\\s\\D+)')"
   ]
  },
  {
   "cell_type": "markdown",
   "id": "93d64c49",
   "metadata": {},
   "source": [
    "### Колонка `metro_station`"
   ]
  },
  {
   "cell_type": "code",
   "execution_count": 11,
   "id": "493248ae",
   "metadata": {},
   "outputs": [],
   "source": [
    "# Выделим из колонки `metro_station` сведения о времени до метро\n",
    "pattern = r\"\\((\\d+)\\s*мин\"\n",
    "minutes_str = df['metro_station'].str.extract(pattern, expand=False)\n",
    "df['time_to_metro'] = pd.to_numeric(minutes_str, errors=\"coerce\")"
   ]
  },
  {
   "cell_type": "markdown",
   "id": "6b1524ff",
   "metadata": {},
   "source": [
    "### Колонка `area`"
   ]
  },
  {
   "cell_type": "code",
   "execution_count": 12,
   "id": "ad648a68",
   "metadata": {},
   "outputs": [],
   "source": [
    "# Добавляем столбец с общей площадью квартир\n",
    "df['total area'] = df['area'].str.split('/').str[0].astype('float')"
   ]
  },
  {
   "cell_type": "markdown",
   "id": "6ab3889b",
   "metadata": {},
   "source": [
    "### Колонка `building_type`"
   ]
  },
  {
   "cell_type": "code",
   "execution_count": 14,
   "id": "3b2a1128",
   "metadata": {},
   "outputs": [
    {
     "data": {
      "text/plain": [
       "array(['подземная', nan, 'наземная', 'открытая', 'многоуровневая',\n",
       "       'на крыше'], dtype=object)"
      ]
     },
     "execution_count": 14,
     "metadata": {},
     "output_type": "execute_result"
    }
   ],
   "source": [
    "# Добавляем столбец `floor` с номером этажа и `total_floors` с этажностью здания\n",
    "df['floor'] = df['building_type'].str.extract(r'(\\d{1,3})/').astype('Int64')\n",
    "df['total_floors'] = df['building_type'].str.extract(r'/(\\d{1,3})').astype('Int64')\n",
    "df['parking'].unique()"
   ]
  },
  {
   "cell_type": "markdown",
   "id": "eb0b8621",
   "metadata": {},
   "source": [
    "### Колонка `parking`"
   ]
  },
  {
   "cell_type": "code",
   "execution_count": 15,
   "id": "735e6c37",
   "metadata": {},
   "outputs": [],
   "source": [
    "# категоризовываем колонку `parking` в колонку `parking_categories` от 0 до 5\n",
    "df['parking'].fillna('нет', inplace=True)\n",
    "df['parking_categories'] = pd.factorize(df['parking'])[0]"
   ]
  },
  {
   "cell_type": "markdown",
   "id": "7c44dc11",
   "metadata": {},
   "source": [
    "### Столбец `Price`"
   ]
  },
  {
   "cell_type": "code",
   "execution_count": 16,
   "id": "4655fbe6",
   "metadata": {},
   "outputs": [],
   "source": [
    "# Создаем столбец с главной ценой\n",
    "# r'([\\d\\.]+)' Это регулярное выражение, которое используется для поиска чисел с точкой. \n",
    "# \\d — означает любую цифру от 0 до 9. \n",
    "# [\\d\\.]+ — это: «одна или больше цифр и/или точек подряд». \n",
    "df['main_price'] = df['price'].str.extract(r'([\\d\\.]+)').astype(float)\n",
    "\n",
    "# Поработаем с залогом\n",
    "# Ищем слово Залог, дефис, и число после него\n",
    "# *-\\s* это мы так страхуемся, чтобы захватились пробелы до и после дефиса\"\"\"\n",
    "df['deposit'] = df['price'].str.extract(r'Залог\\s*-\\s*([\\d\\s]+)')[0]\n",
    "df['deposit'] = df['deposit'].str.replace(' ', '').astype(float)\n",
    "\n",
    "# Коммунальные услуги - выводим 1 если True и 0 если False\n",
    "df['utilities_included'] = df['price'].str.contains('Коммунальные услуги включены', case=False, na=False).astype(int)\n",
    "\n",
    "\n",
    "# Срок аренды\n",
    "# Ищем слово Срок аренды, дефис, и слова после него\n",
    "df['rental_term'] = df['price'].str.extract(r'Срок аренды\\s*-\\s*([а-яА-Яa-zA-Z ]+)')\n",
    "\n",
    "# Предоплата\n",
    "# Ищем слово Предоплата, дефис, и слова после него\n",
    "df['prepayment_months'] = df['price'].str.extract(r'Предоплата\\s*(\\d+)')\n",
    "df['prepayment_months'] = df['prepayment_months'].astype(float).astype('Int64') \n",
    "# делаем через  astype('Int64') чтобы не было проблем с пропусками\n",
    "# так как обычный int не поддерживает NaN — это тип float."
   ]
  },
  {
   "cell_type": "markdown",
   "id": "0374f0b1",
   "metadata": {},
   "source": [
    "### Столбец `balcony`"
   ]
  },
  {
   "cell_type": "code",
   "execution_count": 23,
   "id": "c198c5a2-ef61-4565-8d48-cdeb4c417fe1",
   "metadata": {},
   "outputs": [],
   "source": [
    "# Добавляем столбец `presence_balcony` с информацией 0 - балконов/лоджий нет, 1 - балкон/лоджия есть\n",
    "def extract_numbers(balcony):\n",
    "    if isinstance(balcony, str): # проверяем на отсутвтвие Nun \n",
    "        return int(1)\n",
    "    else:\n",
    "        return int(0)\n",
    "df['presence_balcony'] = df['balcony'].apply(extract_numbers)"
   ]
  },
  {
   "cell_type": "markdown",
   "id": "0903bdaa",
   "metadata": {},
   "source": [
    "### Столбец `bathroom`"
   ]
  },
  {
   "cell_type": "code",
   "execution_count": null,
   "id": "dab4643a",
   "metadata": {},
   "outputs": [],
   "source": [
    "# Добавляем столбец `numbers_toilets` с информацией о кол-ве санузлов\n",
    "def numbers_toilet(bathroom):\n",
    "    if isinstance(bathroom, str): #проверяем на отсутвтвие Nun \n",
    "        numbers = re.findall(r'\\d+', bathroom)\n",
    "        return sum(int(num) for num in numbers)\n",
    "    else:\n",
    "        return int(0)\n",
    "df['numbers_toilets'] = df['bathroom'].apply(numbers_toilet)"
   ]
  },
  {
   "cell_type": "markdown",
   "id": "4dc39fad",
   "metadata": {},
   "source": [
    "### Столбец `kids_pets`"
   ]
  },
  {
   "cell_type": "code",
   "execution_count": 29,
   "id": "bc5c49e8",
   "metadata": {},
   "outputs": [],
   "source": [
    "# Добавляем столбец `kids_allowed` с информацией допустима ли аренда с детьми\n",
    "df['kids_allowed'] = np.where(df['kids_pets'].str.contains('детьми'), 1, 0)\n",
    "# Добавляем столбец `pets_allowed` с информацией допустима ли аренда с животными\n",
    "df['pets_allowed'] = np.where(df['kids_pets'].str.contains('животными'), 1, 0)"
   ]
  },
  {
   "cell_type": "markdown",
   "id": "bde8500a",
   "metadata": {},
   "source": [
    "### Столбец `extra`"
   ]
  },
  {
   "cell_type": "code",
   "execution_count": 30,
   "id": "d72563c0",
   "metadata": {},
   "outputs": [],
   "source": [
    "# добавляем столбец с наличием/отсутствием мебели\n",
    "df[\"furniture\"] = np.where(df[\"extra\"].isna(), np.nan, df[\"extra\"].str.contains(\"Мебель в комнатах\", na=False).astype(int))\n",
    "# добавляем столбец с наличием/отсутствием холодильника\n",
    "df[\"fridge\"] = np.where(df[\"extra\"].isna(), np.nan, df[\"extra\"].str.contains(\"Холодильник\", na=False).astype(int))\n",
    "# добавляем столбец с наличием/отсутствием стиральной машины\n",
    "df[\"washing_machine\"] = np.where(df[\"extra\"].isna(), np.nan, df[\"extra\"].str.contains(\"Стиральная машина\", na=False).astype(int))"
   ]
  },
  {
   "cell_type": "markdown",
   "id": "c60baf6c",
   "metadata": {},
   "source": [
    "### Столбец `ceiling_height`"
   ]
  },
  {
   "cell_type": "code",
   "execution_count": 31,
   "id": "1f7e53fb",
   "metadata": {},
   "outputs": [],
   "source": [
    "# Заполняем пропущенные значения в столбце `ceiling_height` медианой\n",
    "df.fillna({'ceiling_height': (df['ceiling_height'].median())}, inplace=True)"
   ]
  },
  {
   "cell_type": "markdown",
   "id": "43503283",
   "metadata": {},
   "source": [
    "### Столбец `elevator`"
   ]
  },
  {
   "cell_type": "code",
   "execution_count": 32,
   "id": "45968af4",
   "metadata": {},
   "outputs": [],
   "source": [
    "# Вытащим из строк информацию о количестве лифтов\n",
    "df['elevator_num'] = df['elevator'].str.extract(r'(\\d{1,2})\\).*(\\d{1,2})\\).*|(\\d{1,2})\\)').astype('Int64').sum(axis=1, min_count=1)"
   ]
  },
  {
   "cell_type": "markdown",
   "id": "be9b248f",
   "metadata": {},
   "source": [
    "### Столбец `trash_chute`"
   ]
  },
  {
   "cell_type": "code",
   "execution_count": null,
   "id": "b2324497",
   "metadata": {},
   "outputs": [],
   "source": [
    "# 0 - мусоропровода нет, 1 - мусоропровод имеется\n",
    "df['trash_chute'] = df['trash_chute'].map({'Да': 1, 'Нет': 0}).astype('Int64')"
   ]
  }
 ],
 "metadata": {
  "kernelspec": {
   "display_name": "base",
   "language": "python",
   "name": "python3"
  },
  "language_info": {
   "codemirror_mode": {
    "name": "ipython",
    "version": 3
   },
   "file_extension": ".py",
   "mimetype": "text/x-python",
   "name": "python",
   "nbconvert_exporter": "python",
   "pygments_lexer": "ipython3",
   "version": "3.12.10"
  }
 },
 "nbformat": 4,
 "nbformat_minor": 5
}
