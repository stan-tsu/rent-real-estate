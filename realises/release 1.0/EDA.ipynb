{
 "cells": [
  {
   "cell_type": "code",
   "execution_count": 1,
   "id": "7a3d3780-2408-4a9f-b24d-646a53547edb",
   "metadata": {},
   "outputs": [],
   "source": [
    "# Импорт библиотек\n",
    "import pandas as pd\n",
    "import numpy as np\n",
    "import seaborn as sns\n",
    "import matplotlib.pyplot as plt"
   ]
  },
  {
   "cell_type": "code",
   "execution_count": 2,
   "id": "8e78edc5-c6b9-4cc7-b0e3-8e3f037f6788",
   "metadata": {},
   "outputs": [],
   "source": [
    "# Чтение датасета\n",
    "df = pd.read_csv('../../data/_data.csv')"
   ]
  },
  {
   "cell_type": "code",
   "execution_count": 20,
   "id": "c86ac0cb-91e1-472c-ac96-07660fc3674b",
   "metadata": {},
   "outputs": [],
   "source": [
    "# удаляем столбец `Unnamed: 0`\n",
    "df = df.iloc[:, 1:]\n",
    "\n",
    "# переименовываем столбцы\n",
    "NEW_COLUMNS = {\n",
    "    'ID  объявления':           'id',\n",
    "    'Количество комнат':        'rooms',\n",
    "    'Тип':                      'type',\n",
    "    'Метро':                    'metro_station',\n",
    "    'Адрес':                    'address',\n",
    "    'Площадь, м2':              'area',\n",
    "    'Дом':                      'building_type',\n",
    "    'Парковка':                 'parking',\n",
    "    'Цена':                     'price',\n",
    "    'Телефоны':                 'phones',\n",
    "    'Описание':                 'description',\n",
    "    'Ремонт':                   'renovation',\n",
    "    'Площадь комнат, м2':       'rooms_area',\n",
    "    'Балкон':                   'balcony',\n",
    "    'Окна':                     'windows',\n",
    "    'Санузел':                  'bathroom',\n",
    "    'Можно с детьми/животными': 'kids_pets',\n",
    "    'Дополнительно':            'extra',\n",
    "    'Название ЖК':              'complex_title',\n",
    "    'Серия дома':               'building_series',\n",
    "    'Высота потолков, м':       'ceiling_height',\n",
    "    'Лифт':                     'elevator',\n",
    "    'Мусоропровод':             'trash_chute',\n",
    "    'Ссылка на объявление':     'listing_url',\n",
    "}\n",
    "df = df.rename(columns=NEW_COLUMNS)"
   ]
  },
  {
   "cell_type": "code",
   "execution_count": null,
   "id": "c198c5a2-ef61-4565-8d48-cdeb4c417fe1",
   "metadata": {},
   "outputs": [],
   "source": [
    "# 1. Создаем столбец с главной ценой\n",
    "# r'([\\d\\.]+)' Это регулярное выражение, которое используется для поиска чисел с точкой. \n",
    "# \\d — означает любую цифру от 0 до 9. \n",
    "# [\\d\\.]+ — это: «одна или больше цифр и/или точек подряд». \n",
    "df['main_price'] = df['Цена'].str.extract(r'([\\d\\.]+)').astype(float)\n",
    "\n",
    "# 2. Поработаем с залогом\n",
    "# Ищем слово Залог, дефис, и число после него\n",
    "# *-\\s* это мы так страхуемся, чтобы захватились пробелы до и после дефиса\"\"\"\n",
    "df['deposit'] = df['Цена'].str.extract(r'Залог\\s*-\\s*([\\d\\s]+)')[0]\n",
    "df['deposit'] = df['deposit'].str.replace(' ', '').astype(float)\n",
    "\n",
    "# 3. Коммунальные услуги - выводим пока что только булевы значения True/False\n",
    "df['utilities_included'] = df['Цена'].str.contains('Коммунальные услуги включены', case=False, na=False)\n",
    "\n",
    "# 4. Срок аренды\n",
    "# Ищем слово Срок аренды, дефис, и слова после него\n",
    "df['rental_term'] = df['Цена'].str.extract(r'Срок аренды\\s*-\\s*([а-яА-Яa-zA-Z ]+)')\n",
    "\n",
    "# 5. Предоплата\n",
    "# Ищем слово Предоплата, дефис, и слова после него\n",
    "df['prepayment_months'] = df['Цена'].str.extract(r'Предоплата\\s*(\\d+)')\n",
    "df['prepayment_months'] = df['prepayment_months'].astype(float)\n",
    "\n",
    "df.head(5)"
   ]
  },
  {
   "cell_type": "code",
   "execution_count": null,
   "id": "d065560d",
   "metadata": {},
   "outputs": [],
   "source": [
    "df['num_rooms'] = df['rooms'].str.extract(r'(\\d+)')\n",
    "df['num_rooms'] = df['num_rooms'].fillna(df['num_rooms'].dropna().astype('int64').median()).astype('int64')\n",
    "df['num_rooms'].unique()"
   ]
  },
  {
   "cell_type": "code",
   "execution_count": null,
   "id": "6818ba0c",
   "metadata": {},
   "outputs": [],
   "source": [
    "df['type_rooms'] = df['rooms'].str.extract(r'(\\s\\D+)')\n",
    "df['type_rooms'].unique()\n"
   ]
  }
 ],
 "metadata": {
  "kernelspec": {
   "display_name": "base",
   "language": "python",
   "name": "python3"
  },
  "language_info": {
   "codemirror_mode": {
    "name": "ipython",
    "version": 3
   },
   "file_extension": ".py",
   "mimetype": "text/x-python",
   "name": "python",
   "nbconvert_exporter": "python",
   "pygments_lexer": "ipython3",
   "version": "3.12.10"
  }
 },
 "nbformat": 4,
 "nbformat_minor": 5
}
